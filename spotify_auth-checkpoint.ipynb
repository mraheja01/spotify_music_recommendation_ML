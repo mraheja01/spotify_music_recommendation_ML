{
 "cells": [
  {
   "cell_type": "code",
   "execution_count": 1,
   "id": "70c45112",
   "metadata": {},
   "outputs": [
    {
     "name": "stdout",
     "output_type": "stream",
     "text": [
      "Requirement already satisfied: requests in c:\\users\\yashn\\appdata\\local\\programs\\python\\python310\\lib\\site-packages (2.27.1)\n",
      "Requirement already satisfied: idna<4,>=2.5 in c:\\users\\yashn\\appdata\\local\\programs\\python\\python310\\lib\\site-packages (from requests) (3.3)\n",
      "Requirement already satisfied: urllib3<1.27,>=1.21.1 in c:\\users\\yashn\\appdata\\local\\programs\\python\\python310\\lib\\site-packages (from requests) (1.26.9)\n",
      "Requirement already satisfied: certifi>=2017.4.17 in c:\\users\\yashn\\appdata\\local\\programs\\python\\python310\\lib\\site-packages (from requests) (2021.10.8)\n",
      "Requirement already satisfied: charset-normalizer~=2.0.0 in c:\\users\\yashn\\appdata\\local\\programs\\python\\python310\\lib\\site-packages (from requests) (2.0.12)\n"
     ]
    },
    {
     "name": "stderr",
     "output_type": "stream",
     "text": [
      "WARNING: You are using pip version 21.2.4; however, version 22.1 is available.\n",
      "You should consider upgrading via the 'C:\\Users\\yashn\\AppData\\Local\\Programs\\Python\\Python310\\python.exe -m pip install --upgrade pip' command.\n"
     ]
    }
   ],
   "source": [
    "!pip install requests\n",
    "import spotipy\n",
    "from spotipy.oauth2 import SpotifyClientCredentials"
   ]
  },
  {
   "cell_type": "code",
   "execution_count": 2,
   "id": "2f4bfd5a",
   "metadata": {},
   "outputs": [],
   "source": [
    "client_id='48116c7c5e734f8ea5653145d57e404c'\n",
    "client_secret='9e870ff2e44341a4968ebcf19b9bff79'"
   ]
  },
  {
   "cell_type": "code",
   "execution_count": 3,
   "id": "38381777",
   "metadata": {},
   "outputs": [],
   "source": [
    "import sys\n",
    "scope = 'user-library-read'\n",
    "\n",
    "if len(sys.argv) > 1:\n",
    "    username = sys.argv[1]\n",
    "else:\n",
    "    print(\"Usage: %s username\" % (sys.argv[0],))\n",
    "    sys.exit()"
   ]
  },
  {
   "cell_type": "code",
   "execution_count": 4,
   "id": "c0935fe2",
   "metadata": {},
   "outputs": [],
   "source": [
    "auth_manager = SpotifyClientCredentials(client_id,client_secret)\n",
    "sp = spotipy.Spotify(auth_manager=auth_manager)\n",
    "token=spotipy.util.prompt_for_user_token(client_id=client_id,client_secret=client_secret,scope=scope,redirect_uri='http://localhost:8887/')"
   ]
  },
  {
   "cell_type": "code",
   "execution_count": 5,
   "id": "60ec6462",
   "metadata": {},
   "outputs": [
    {
     "data": {
      "text/plain": [
       "'BQAV2sIdOZ2IrGwq-ZPPFJXf9024EpNs5c6eQ9GSOidjEXruOeRpcKuRweWf12Sv6lLenXhie5EH6bg5IPerpcJvr4zsNNx6CWCMPo_btJdkVqqwHnU2eKVqtByXfubhe6eQi4RWTts8jubkSUC90eXfRUrCN_M6nRsroNNX3Z1QJeDyxfY'"
      ]
     },
     "execution_count": 5,
     "metadata": {},
     "output_type": "execute_result"
    }
   ],
   "source": [
    "token"
   ]
  }
 ],
 "metadata": {
  "kernelspec": {
   "display_name": "Python 3 (ipykernel)",
   "language": "python",
   "name": "python3"
  },
  "language_info": {
   "codemirror_mode": {
    "name": "ipython",
    "version": 3
   },
   "file_extension": ".py",
   "mimetype": "text/x-python",
   "name": "python",
   "nbconvert_exporter": "python",
   "pygments_lexer": "ipython3",
   "version": "3.10.1"
  }
 },
 "nbformat": 4,
 "nbformat_minor": 5
}
